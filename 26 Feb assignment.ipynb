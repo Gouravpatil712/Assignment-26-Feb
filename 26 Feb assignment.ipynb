{
 "cells": [
  {
   "cell_type": "markdown",
   "id": "74483e55-d60b-4cf5-a5a4-fd874d9ffccb",
   "metadata": {},
   "source": [
    "## Question 01 - Is there any difference in the data type of variables list_ and array_list? If there is then write a code to print the data types of both the variables."
   ]
  },
  {
   "cell_type": "markdown",
   "id": "ef09196f-10df-4ebb-922e-d76f7e29387e",
   "metadata": {},
   "source": [
    "# Answer :- \n",
    "\n",
    "Yes, there is a difference in the data type of variables list_ and array_list.\n",
    "\n",
    "The variable list_ is a Python list object, while array_list is a NumPy ndarray object.\n",
    "\n",
    "To print the data types of both variables, we can use the type() function as follows:"
   ]
  },
  {
   "cell_type": "code",
   "execution_count": 1,
   "id": "e6a022ce-0a8e-4db3-ae53-bc7639267b97",
   "metadata": {},
   "outputs": [
    {
     "name": "stdout",
     "output_type": "stream",
     "text": [
      "<class 'list'>\n",
      "<class 'numpy.ndarray'>\n"
     ]
    }
   ],
   "source": [
    "import numpy as np\n",
    "\n",
    "list_ = ['1', '2', '3', '4', '5']\n",
    "array_list = np.array(object=list_)\n",
    "\n",
    "print(type(list_))\n",
    "print(type(array_list))\n"
   ]
  },
  {
   "cell_type": "markdown",
   "id": "940e9ecf-d261-4201-b34e-0320c0296a4c",
   "metadata": {},
   "source": [
    "## Question 02 - Write a code to print the data type of each and every element of both the variables list_ and arra_list."
   ]
  },
  {
   "cell_type": "markdown",
   "id": "27c06ec9-5481-4f95-b71e-67d3953731ad",
   "metadata": {},
   "source": [
    "# Answer :- \n",
    "\n",
    "Since the elements of the variable list_ are strings, we can use the type() function to print the data type of each element in the list. For the variable array_list, we can use the dtype attribute to print the data type of each element in the NumPy array."
   ]
  },
  {
   "cell_type": "code",
   "execution_count": 3,
   "id": "9a78fcd7-2bb6-4c46-9300-d547f615fdea",
   "metadata": {},
   "outputs": [
    {
     "name": "stdout",
     "output_type": "stream",
     "text": [
      "Data type of elements in list_:\n",
      "<class 'str'>\n",
      "<class 'str'>\n",
      "<class 'str'>\n",
      "<class 'str'>\n",
      "<class 'str'>\n",
      "\n",
      "Data type of elements in array_list:\n",
      "<class 'numpy.str_'>\n",
      "<class 'numpy.str_'>\n",
      "<class 'numpy.str_'>\n",
      "<class 'numpy.str_'>\n",
      "<class 'numpy.str_'>\n"
     ]
    }
   ],
   "source": [
    "import numpy as np\n",
    "\n",
    "list_ = ['1', '2', '3', '4', '5']\n",
    "array_list = np.array(object=list_)\n",
    "\n",
    "# print data type of each element in list_\n",
    "print(\"Data type of elements in list_:\")\n",
    "for element in list_:\n",
    "    print(type(element))\n",
    "\n",
    "# print data type of each element in array_list\n",
    "print(\"\\nData type of elements in array_list:\")\n",
    "for element in array_list:\n",
    "    print(type(element))\n"
   ]
  },
  {
   "cell_type": "markdown",
   "id": "fd762c29-2516-40b8-af5d-30fe58182c24",
   "metadata": {},
   "source": [
    "## Question 03 - Considering the following changes in the variable, array_list:\n",
    "array_list = np.array(object = list_, dtype = int)\n",
    "Will there be any difference in the data type of the elements present in both the variables, list_ and\n",
    "arra_list? If so then print the data types of each and every element present in both the variables, list_\n",
    "and arra_list.\n",
    "Consider the below code to answer further questions:\n",
    "import numpy as np\n",
    "num_list = [ [ 1 , 2 , 3 ] , [ 4 , 5 , 6 ] ]\n",
    "num_array = np.array(object = num_list)"
   ]
  },
  {
   "cell_type": "markdown",
   "id": "907f08fe-ba8d-4e4d-8531-d2b6e99e9277",
   "metadata": {},
   "source": [
    "# Answer :-\n",
    "\n",
    "Yes, there will be a difference in the data type of the elements present in both the variables, list_ and array_list. When we define the dtype parameter as int while creating the NumPy array array_list, it converts all the elements of the original list to integers."
   ]
  },
  {
   "cell_type": "code",
   "execution_count": 4,
   "id": "4384634c-acf5-4600-9dea-4998a509489b",
   "metadata": {},
   "outputs": [
    {
     "name": "stdout",
     "output_type": "stream",
     "text": [
      "<class 'str'>\n",
      "<class 'str'>\n",
      "<class 'str'>\n",
      "<class 'str'>\n",
      "<class 'str'>\n",
      "<class 'numpy.int64'>\n",
      "<class 'numpy.int64'>\n",
      "<class 'numpy.int64'>\n",
      "<class 'numpy.int64'>\n",
      "<class 'numpy.int64'>\n"
     ]
    }
   ],
   "source": [
    "list_ = ['1', '2', '3', '4', '5']\n",
    "array_list = np.array(object=list_, dtype=int)\n",
    "\n",
    "# Print data types of elements in list_\n",
    "for element in list_:\n",
    "    print(type(element))\n",
    "\n",
    "# Print data types of elements in array_list\n",
    "for element in array_list:\n",
    "    print(type(element))\n"
   ]
  },
  {
   "cell_type": "markdown",
   "id": "21b76069-f924-420e-b753-587e7fe29006",
   "metadata": {},
   "source": [
    "## Question 04 - Write a code to find the following characteristics of variable, num_array:\n",
    "(i) shape\n",
    "(ii) size"
   ]
  },
  {
   "cell_type": "code",
   "execution_count": 8,
   "id": "77724328-2c5e-4bda-a8d5-59e593ee1521",
   "metadata": {},
   "outputs": [
    {
     "name": "stdout",
     "output_type": "stream",
     "text": [
      "Shape of num_array: (2, 3)\n"
     ]
    }
   ],
   "source": [
    "# Answer :-\n",
    "\n",
    "num_list = [[1, 2, 3], [4, 5, 6]]\n",
    "num_array = np.array(object=num_list)\n",
    "\n",
    "# Finding shape of num_array\n",
    "print(\"Shape of num_array:\", num_array.shape)"
   ]
  },
  {
   "cell_type": "code",
   "execution_count": 9,
   "id": "ae732eab-4357-4202-b30e-014db59c4df7",
   "metadata": {},
   "outputs": [
    {
     "name": "stdout",
     "output_type": "stream",
     "text": [
      "Size of num_array: 6\n"
     ]
    }
   ],
   "source": [
    "# Finding size of num_array\n",
    "print(\"Size of num_array:\", num_array.size)"
   ]
  },
  {
   "cell_type": "markdown",
   "id": "6f5b023f-f205-4543-99d9-0731d20d71c2",
   "metadata": {},
   "source": [
    "## Question 05 - Write a code to create numpy array of 3*3 matrix containing zeros only, using a numpy array creation function.\n",
    "[Hint: The size of the array will be 9 and the shape will be (3,3).]"
   ]
  },
  {
   "cell_type": "code",
   "execution_count": 10,
   "id": "c368783b-4316-4a5a-b39b-9069425bb766",
   "metadata": {},
   "outputs": [
    {
     "name": "stdout",
     "output_type": "stream",
     "text": [
      "[[0. 0. 0.]\n",
      " [0. 0. 0.]\n",
      " [0. 0. 0.]]\n"
     ]
    }
   ],
   "source": [
    "# Answer :- \n",
    "\n",
    "import numpy as np\n",
    "\n",
    "# create a 3x3 numpy array containing zeros\n",
    "arr = np.zeros((3, 3))\n",
    "\n",
    "# print the array\n",
    "print(arr)\n"
   ]
  },
  {
   "cell_type": "markdown",
   "id": "2efe2c19-943e-4fe8-83f6-3b27614562b7",
   "metadata": {},
   "source": [
    "## Question 06 - Create an identity matrix of shape (5,5) using numpy functions?\n",
    "[Hint: An identity matrix is a matrix containing 1 diagonally and other elements will be 0.]"
   ]
  },
  {
   "cell_type": "code",
   "execution_count": 11,
   "id": "f0d37e34-3f41-45f8-bacb-316ba99956ee",
   "metadata": {},
   "outputs": [
    {
     "name": "stdout",
     "output_type": "stream",
     "text": [
      "[[1. 0. 0. 0. 0.]\n",
      " [0. 1. 0. 0. 0.]\n",
      " [0. 0. 1. 0. 0.]\n",
      " [0. 0. 0. 1. 0.]\n",
      " [0. 0. 0. 0. 1.]]\n"
     ]
    }
   ],
   "source": [
    "# Answer :-\n",
    "\n",
    "import numpy as np\n",
    "\n",
    "identity_matrix = np.identity(5)\n",
    "print(identity_matrix)"
   ]
  },
  {
   "cell_type": "code",
   "execution_count": null,
   "id": "ba76f8c9-1f1a-4d14-9a0a-bd0b3824e0d9",
   "metadata": {},
   "outputs": [],
   "source": []
  }
 ],
 "metadata": {
  "kernelspec": {
   "display_name": "Python 3 (ipykernel)",
   "language": "python",
   "name": "python3"
  },
  "language_info": {
   "codemirror_mode": {
    "name": "ipython",
    "version": 3
   },
   "file_extension": ".py",
   "mimetype": "text/x-python",
   "name": "python",
   "nbconvert_exporter": "python",
   "pygments_lexer": "ipython3",
   "version": "3.10.8"
  }
 },
 "nbformat": 4,
 "nbformat_minor": 5
}
